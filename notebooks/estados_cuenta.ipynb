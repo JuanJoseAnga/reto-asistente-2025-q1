{
 "cells": [
  {
   "cell_type": "code",
   "execution_count": 11,
   "metadata": {},
   "outputs": [
    {
     "name": "stdout",
     "output_type": "stream",
     "text": [
      "\n",
      "Top 5 Mayores Gastos:\n",
      "    Fecha                                        Descripción  Débito\n",
      "0  06-ene                26555100 CONSUMO VISA NA TEMU KS GU   44.42\n",
      "1  23-dic       903244763 PAGO MEER TRF 00000000200031928399   33.47\n",
      "2  16-dic     133345913 CONSUMO VISA NA H M BRANDLIVE PMZ QU   30.69\n",
      "3  24-dic  39669955 CONSUMO VISA NA ETAFASHION QUICENTRO NQU   29.99\n",
      "4  08-ene   901281334 CONSUMO VISA IN EA *ELECTRONIC ARTS HE   20.99\n",
      "\n",
      "Top 3 Gastos Recurrentes:\n",
      "                                      Descripción  Débito\n",
      "0             26555100 CONSUMO VISA NA TEMU KS GU   44.42\n",
      "1    903244763 PAGO MEER TRF 00000000200031928399   33.47\n",
      "2  133345913 CONSUMO VISA NA H M BRANDLIVE PMZ QU   30.69\n"
     ]
    },
    {
     "name": "stderr",
     "output_type": "stream",
     "text": [
      "C:\\Users\\juanf\\AppData\\Local\\Temp\\ipykernel_23304\\4162706362.py:32: UserWarning: This pattern is interpreted as a regular expression, and has match groups. To actually get the groups, use str.extract.\n",
      "  df_filtrado = df_total[~df_total[\"Descripción\"].str.contains(r\"(TRANSFERENCIA|RETIRO)\", case=False, na=False)]\n"
     ]
    }
   ],
   "source": [
    "import pdfplumber\n",
    "import pandas as pd\n",
    "import re\n",
    "\n",
    "# Función para anonimizar datos sensibles\n",
    "def anonimizar_descripcion(descripcion):\n",
    "    # Reemplazar patrones comunes sensibles\n",
    "    descripcion = re.sub(r\"\\d{6,}\", \"[OCULTO]\", descripcion)  # Reemplaza números largos\n",
    "    descripcion = re.sub(r\"[a-zA-Z0-9_.+-]+@[a-zA-Z0-9-]+\\.[a-zA-Z0-9-.]+\", \"[EMAIL]\", descripcion)  # Correos\n",
    "    descripcion = re.sub(r\"\\b\\d{10}\\b\", \"[TELÉFONO]\", descripcion)  # Teléfonos (10 dígitos)\n",
    "    return descripcion\n",
    "\n",
    "# Función para extraer datos de un estado de cuenta en PDF\n",
    "def extraer_movimientos(pdf_path):\n",
    "    movimientos = []\n",
    "    with pdfplumber.open(pdf_path) as pdf:\n",
    "        for page in pdf.pages:\n",
    "            text = page.extract_text()\n",
    "            if text:\n",
    "                lines = text.split(\"\\n\")\n",
    "                for line in lines:\n",
    "                    # Expresión regular para capturar fecha, descripción y monto\n",
    "                    match = re.search(r\"(\\d{2}-[a-zA-Z]{3})\\s+[\\d\\*]+\\s+(.+?)\\s+([\\d]+\\.\\d{2})\", line)\n",
    "                    if match:\n",
    "                        fecha = match.group(1).strip()\n",
    "                        descripcion = match.group(2).strip()\n",
    "                        debito = float(match.group(3))\n",
    "                        descripcion = anonimizar_descripcion(descripcion)\n",
    "                        movimientos.append((fecha, descripcion, debito))\n",
    "\n",
    "    return pd.DataFrame(movimientos, columns=[\"Fecha\", \"Descripción\", \"Débito\"])\n",
    "\n",
    "# Especifica el archivo PDF a procesar\n",
    "ruta_pdf = \"../data/pdfs/estados_cuenta/estado-cuenta1.pdf\"\n",
    "\n",
    "# Extraer movimientos del PDF especificado\n",
    "df_total = extraer_movimientos(ruta_pdf)\n",
    "\n",
    "# Filtrar para excluir \"TRANSFERENCIA\" y \"RETIRO\"\n",
    "df_filtrado = df_total[~df_total[\"Descripción\"].str.contains(r\"(TRANSFERENCIA|RETIRO)\", case=False, na=False)]\n",
    "\n",
    "# Obtener los 5 mayores gastos\n",
    "top_5_gastos = df_filtrado.nlargest(5, \"Débito\").reset_index(drop=True)\n",
    "\n",
    "# Agrupar y sumar los gastos recurrentes\n",
    "gastos_recurrentes = df_filtrado.groupby(\"Descripción\")[\"Débito\"].sum().reset_index()\n",
    "\n",
    "# Obtener los 3 establecimientos con más gasto acumulado\n",
    "top_3_recurrentes = gastos_recurrentes.nlargest(3, \"Débito\").reset_index(drop=True)\n",
    "\n",
    "# Mostrar resultados\n",
    "print(\"\\nTop 5 Mayores Gastos:\")\n",
    "print(top_5_gastos)\n",
    "\n",
    "print(\"\\nTop 3 Gastos Recurrentes:\")\n",
    "print(top_3_recurrentes)\n"
   ]
  },
  {
   "cell_type": "code",
   "execution_count": null,
   "metadata": {},
   "outputs": [],
   "source": []
  }
 ],
 "metadata": {
  "kernelspec": {
   "display_name": "Python 3",
   "language": "python",
   "name": "python3"
  },
  "language_info": {
   "codemirror_mode": {
    "name": "ipython",
    "version": 3
   },
   "file_extension": ".py",
   "mimetype": "text/x-python",
   "name": "python",
   "nbconvert_exporter": "python",
   "pygments_lexer": "ipython3",
   "version": "3.12.8"
  }
 },
 "nbformat": 4,
 "nbformat_minor": 2
}
